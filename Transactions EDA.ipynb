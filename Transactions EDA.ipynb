{
 "cells": [
  {
   "cell_type": "code",
   "execution_count": 1,
   "metadata": {},
   "outputs": [],
   "source": [
    "import pandas as pd \n",
    "import numpy as np \n",
    "import warnings\n",
    "warnings.filterwarnings(\"ignore\")"
   ]
  },
  {
   "cell_type": "code",
   "execution_count": 2,
   "metadata": {},
   "outputs": [
    {
     "data": {
      "text/html": [
       "<div>\n",
       "<style scoped>\n",
       "    .dataframe tbody tr th:only-of-type {\n",
       "        vertical-align: middle;\n",
       "    }\n",
       "\n",
       "    .dataframe tbody tr th {\n",
       "        vertical-align: top;\n",
       "    }\n",
       "\n",
       "    .dataframe thead th {\n",
       "        text-align: right;\n",
       "    }\n",
       "</style>\n",
       "<table border=\"1\" class=\"dataframe\">\n",
       "  <thead>\n",
       "    <tr style=\"text-align: right;\">\n",
       "      <th></th>\n",
       "      <th>person</th>\n",
       "      <th>event</th>\n",
       "      <th>time</th>\n",
       "      <th>amount</th>\n",
       "      <th>gender</th>\n",
       "      <th>age</th>\n",
       "      <th>income</th>\n",
       "      <th>year joined</th>\n",
       "      <th>member_since(in years)</th>\n",
       "      <th>gender_F</th>\n",
       "      <th>gender_M</th>\n",
       "      <th>gender_O</th>\n",
       "      <th>income bins</th>\n",
       "      <th>num_transactions</th>\n",
       "    </tr>\n",
       "  </thead>\n",
       "  <tbody>\n",
       "    <tr>\n",
       "      <th>0</th>\n",
       "      <td>02c083884c7d45b39cc68e1314fec56c</td>\n",
       "      <td>transaction</td>\n",
       "      <td>0</td>\n",
       "      <td>0.83</td>\n",
       "      <td>F</td>\n",
       "      <td>20</td>\n",
       "      <td>30000.0</td>\n",
       "      <td>2016</td>\n",
       "      <td>4</td>\n",
       "      <td>1</td>\n",
       "      <td>0</td>\n",
       "      <td>0</td>\n",
       "      <td>1</td>\n",
       "      <td>10</td>\n",
       "    </tr>\n",
       "    <tr>\n",
       "      <th>1</th>\n",
       "      <td>02c083884c7d45b39cc68e1314fec56c</td>\n",
       "      <td>transaction</td>\n",
       "      <td>6</td>\n",
       "      <td>1.44</td>\n",
       "      <td>F</td>\n",
       "      <td>20</td>\n",
       "      <td>30000.0</td>\n",
       "      <td>2016</td>\n",
       "      <td>4</td>\n",
       "      <td>1</td>\n",
       "      <td>0</td>\n",
       "      <td>0</td>\n",
       "      <td>1</td>\n",
       "      <td>10</td>\n",
       "    </tr>\n",
       "    <tr>\n",
       "      <th>2</th>\n",
       "      <td>02c083884c7d45b39cc68e1314fec56c</td>\n",
       "      <td>transaction</td>\n",
       "      <td>12</td>\n",
       "      <td>4.56</td>\n",
       "      <td>F</td>\n",
       "      <td>20</td>\n",
       "      <td>30000.0</td>\n",
       "      <td>2016</td>\n",
       "      <td>4</td>\n",
       "      <td>1</td>\n",
       "      <td>0</td>\n",
       "      <td>0</td>\n",
       "      <td>1</td>\n",
       "      <td>10</td>\n",
       "    </tr>\n",
       "    <tr>\n",
       "      <th>3</th>\n",
       "      <td>02c083884c7d45b39cc68e1314fec56c</td>\n",
       "      <td>transaction</td>\n",
       "      <td>84</td>\n",
       "      <td>1.53</td>\n",
       "      <td>F</td>\n",
       "      <td>20</td>\n",
       "      <td>30000.0</td>\n",
       "      <td>2016</td>\n",
       "      <td>4</td>\n",
       "      <td>1</td>\n",
       "      <td>0</td>\n",
       "      <td>0</td>\n",
       "      <td>1</td>\n",
       "      <td>10</td>\n",
       "    </tr>\n",
       "    <tr>\n",
       "      <th>4</th>\n",
       "      <td>02c083884c7d45b39cc68e1314fec56c</td>\n",
       "      <td>transaction</td>\n",
       "      <td>90</td>\n",
       "      <td>0.50</td>\n",
       "      <td>F</td>\n",
       "      <td>20</td>\n",
       "      <td>30000.0</td>\n",
       "      <td>2016</td>\n",
       "      <td>4</td>\n",
       "      <td>1</td>\n",
       "      <td>0</td>\n",
       "      <td>0</td>\n",
       "      <td>1</td>\n",
       "      <td>10</td>\n",
       "    </tr>\n",
       "    <tr>\n",
       "      <th>...</th>\n",
       "      <td>...</td>\n",
       "      <td>...</td>\n",
       "      <td>...</td>\n",
       "      <td>...</td>\n",
       "      <td>...</td>\n",
       "      <td>...</td>\n",
       "      <td>...</td>\n",
       "      <td>...</td>\n",
       "      <td>...</td>\n",
       "      <td>...</td>\n",
       "      <td>...</td>\n",
       "      <td>...</td>\n",
       "      <td>...</td>\n",
       "      <td>...</td>\n",
       "    </tr>\n",
       "    <tr>\n",
       "      <th>123797</th>\n",
       "      <td>aabc3d56a2ea4446bef4c3f9eec8ab72</td>\n",
       "      <td>transaction</td>\n",
       "      <td>714</td>\n",
       "      <td>14.68</td>\n",
       "      <td>F</td>\n",
       "      <td>72</td>\n",
       "      <td>74000.0</td>\n",
       "      <td>2018</td>\n",
       "      <td>2</td>\n",
       "      <td>1</td>\n",
       "      <td>0</td>\n",
       "      <td>0</td>\n",
       "      <td>3</td>\n",
       "      <td>1</td>\n",
       "    </tr>\n",
       "    <tr>\n",
       "      <th>123798</th>\n",
       "      <td>448dabde725040978b8a247a20bac126</td>\n",
       "      <td>transaction</td>\n",
       "      <td>714</td>\n",
       "      <td>3.19</td>\n",
       "      <td>M</td>\n",
       "      <td>50</td>\n",
       "      <td>60000.0</td>\n",
       "      <td>2018</td>\n",
       "      <td>2</td>\n",
       "      <td>0</td>\n",
       "      <td>1</td>\n",
       "      <td>0</td>\n",
       "      <td>2</td>\n",
       "      <td>1</td>\n",
       "    </tr>\n",
       "    <tr>\n",
       "      <th>123799</th>\n",
       "      <td>7718656997f3453db0f5aeca9cd35240</td>\n",
       "      <td>transaction</td>\n",
       "      <td>714</td>\n",
       "      <td>15.35</td>\n",
       "      <td>F</td>\n",
       "      <td>73</td>\n",
       "      <td>65000.0</td>\n",
       "      <td>2018</td>\n",
       "      <td>2</td>\n",
       "      <td>1</td>\n",
       "      <td>0</td>\n",
       "      <td>0</td>\n",
       "      <td>3</td>\n",
       "      <td>1</td>\n",
       "    </tr>\n",
       "    <tr>\n",
       "      <th>123800</th>\n",
       "      <td>54463e5d95124b7fb3133fc1eae71952</td>\n",
       "      <td>transaction</td>\n",
       "      <td>714</td>\n",
       "      <td>0.76</td>\n",
       "      <td>M</td>\n",
       "      <td>42</td>\n",
       "      <td>69000.0</td>\n",
       "      <td>2017</td>\n",
       "      <td>3</td>\n",
       "      <td>0</td>\n",
       "      <td>1</td>\n",
       "      <td>0</td>\n",
       "      <td>3</td>\n",
       "      <td>1</td>\n",
       "    </tr>\n",
       "    <tr>\n",
       "      <th>123801</th>\n",
       "      <td>0c027f5f34dd4b9eba0a25785c611273</td>\n",
       "      <td>transaction</td>\n",
       "      <td>714</td>\n",
       "      <td>11.44</td>\n",
       "      <td>M</td>\n",
       "      <td>56</td>\n",
       "      <td>61000.0</td>\n",
       "      <td>2017</td>\n",
       "      <td>3</td>\n",
       "      <td>0</td>\n",
       "      <td>1</td>\n",
       "      <td>0</td>\n",
       "      <td>2</td>\n",
       "      <td>1</td>\n",
       "    </tr>\n",
       "  </tbody>\n",
       "</table>\n",
       "<p>123802 rows × 14 columns</p>\n",
       "</div>"
      ],
      "text/plain": [
       "                                  person        event  time  amount gender  \\\n",
       "0       02c083884c7d45b39cc68e1314fec56c  transaction     0    0.83      F   \n",
       "1       02c083884c7d45b39cc68e1314fec56c  transaction     6    1.44      F   \n",
       "2       02c083884c7d45b39cc68e1314fec56c  transaction    12    4.56      F   \n",
       "3       02c083884c7d45b39cc68e1314fec56c  transaction    84    1.53      F   \n",
       "4       02c083884c7d45b39cc68e1314fec56c  transaction    90    0.50      F   \n",
       "...                                  ...          ...   ...     ...    ...   \n",
       "123797  aabc3d56a2ea4446bef4c3f9eec8ab72  transaction   714   14.68      F   \n",
       "123798  448dabde725040978b8a247a20bac126  transaction   714    3.19      M   \n",
       "123799  7718656997f3453db0f5aeca9cd35240  transaction   714   15.35      F   \n",
       "123800  54463e5d95124b7fb3133fc1eae71952  transaction   714    0.76      M   \n",
       "123801  0c027f5f34dd4b9eba0a25785c611273  transaction   714   11.44      M   \n",
       "\n",
       "        age   income  year joined  member_since(in years)  gender_F  gender_M  \\\n",
       "0        20  30000.0         2016                       4         1         0   \n",
       "1        20  30000.0         2016                       4         1         0   \n",
       "2        20  30000.0         2016                       4         1         0   \n",
       "3        20  30000.0         2016                       4         1         0   \n",
       "4        20  30000.0         2016                       4         1         0   \n",
       "...     ...      ...          ...                     ...       ...       ...   \n",
       "123797   72  74000.0         2018                       2         1         0   \n",
       "123798   50  60000.0         2018                       2         0         1   \n",
       "123799   73  65000.0         2018                       2         1         0   \n",
       "123800   42  69000.0         2017                       3         0         1   \n",
       "123801   56  61000.0         2017                       3         0         1   \n",
       "\n",
       "        gender_O  income bins  num_transactions  \n",
       "0              0            1                10  \n",
       "1              0            1                10  \n",
       "2              0            1                10  \n",
       "3              0            1                10  \n",
       "4              0            1                10  \n",
       "...          ...          ...               ...  \n",
       "123797         0            3                 1  \n",
       "123798         0            2                 1  \n",
       "123799         0            3                 1  \n",
       "123800         0            3                 1  \n",
       "123801         0            2                 1  \n",
       "\n",
       "[123802 rows x 14 columns]"
      ]
     },
     "execution_count": 2,
     "metadata": {},
     "output_type": "execute_result"
    }
   ],
   "source": [
    "transactions = pd.read_csv('transactions.csv',index_col=[0])\n",
    "transactions"
   ]
  },
  {
   "cell_type": "code",
   "execution_count": 3,
   "metadata": {},
   "outputs": [
    {
     "data": {
      "text/html": [
       "<div>\n",
       "<style scoped>\n",
       "    .dataframe tbody tr th:only-of-type {\n",
       "        vertical-align: middle;\n",
       "    }\n",
       "\n",
       "    .dataframe tbody tr th {\n",
       "        vertical-align: top;\n",
       "    }\n",
       "\n",
       "    .dataframe thead th {\n",
       "        text-align: right;\n",
       "    }\n",
       "</style>\n",
       "<table border=\"1\" class=\"dataframe\">\n",
       "  <thead>\n",
       "    <tr style=\"text-align: right;\">\n",
       "      <th></th>\n",
       "      <th>time</th>\n",
       "      <th>amount</th>\n",
       "      <th>age</th>\n",
       "      <th>income</th>\n",
       "      <th>year joined</th>\n",
       "      <th>member_since(in years)</th>\n",
       "      <th>gender_F</th>\n",
       "      <th>gender_M</th>\n",
       "      <th>gender_O</th>\n",
       "      <th>income bins</th>\n",
       "      <th>num_transactions</th>\n",
       "    </tr>\n",
       "  </thead>\n",
       "  <tbody>\n",
       "    <tr>\n",
       "      <th>time</th>\n",
       "      <td>1.000000</td>\n",
       "      <td>0.005504</td>\n",
       "      <td>0.005609</td>\n",
       "      <td>0.002995</td>\n",
       "      <td>0.004424</td>\n",
       "      <td>-0.004424</td>\n",
       "      <td>-0.001881</td>\n",
       "      <td>0.002871</td>\n",
       "      <td>-0.004148</td>\n",
       "      <td>0.001898</td>\n",
       "      <td>-0.038048</td>\n",
       "    </tr>\n",
       "    <tr>\n",
       "      <th>amount</th>\n",
       "      <td>0.005504</td>\n",
       "      <td>1.000000</td>\n",
       "      <td>0.091534</td>\n",
       "      <td>0.237077</td>\n",
       "      <td>0.030986</td>\n",
       "      <td>-0.030986</td>\n",
       "      <td>0.089521</td>\n",
       "      <td>-0.089739</td>\n",
       "      <td>0.002990</td>\n",
       "      <td>0.229147</td>\n",
       "      <td>-0.095568</td>\n",
       "    </tr>\n",
       "    <tr>\n",
       "      <th>age</th>\n",
       "      <td>0.005609</td>\n",
       "      <td>0.091534</td>\n",
       "      <td>1.000000</td>\n",
       "      <td>0.282583</td>\n",
       "      <td>0.011170</td>\n",
       "      <td>-0.011170</td>\n",
       "      <td>0.131003</td>\n",
       "      <td>-0.130201</td>\n",
       "      <td>-0.000272</td>\n",
       "      <td>0.274323</td>\n",
       "      <td>-0.167729</td>\n",
       "    </tr>\n",
       "    <tr>\n",
       "      <th>income</th>\n",
       "      <td>0.002995</td>\n",
       "      <td>0.237077</td>\n",
       "      <td>0.282583</td>\n",
       "      <td>1.000000</td>\n",
       "      <td>0.022724</td>\n",
       "      <td>-0.022724</td>\n",
       "      <td>0.195894</td>\n",
       "      <td>-0.193489</td>\n",
       "      <td>-0.005408</td>\n",
       "      <td>0.948328</td>\n",
       "      <td>-0.310059</td>\n",
       "    </tr>\n",
       "    <tr>\n",
       "      <th>year joined</th>\n",
       "      <td>0.004424</td>\n",
       "      <td>0.030986</td>\n",
       "      <td>0.011170</td>\n",
       "      <td>0.022724</td>\n",
       "      <td>1.000000</td>\n",
       "      <td>-1.000000</td>\n",
       "      <td>0.062068</td>\n",
       "      <td>-0.065728</td>\n",
       "      <td>0.016624</td>\n",
       "      <td>0.017823</td>\n",
       "      <td>-0.368564</td>\n",
       "    </tr>\n",
       "    <tr>\n",
       "      <th>member_since(in years)</th>\n",
       "      <td>-0.004424</td>\n",
       "      <td>-0.030986</td>\n",
       "      <td>-0.011170</td>\n",
       "      <td>-0.022724</td>\n",
       "      <td>-1.000000</td>\n",
       "      <td>1.000000</td>\n",
       "      <td>-0.062068</td>\n",
       "      <td>0.065728</td>\n",
       "      <td>-0.016624</td>\n",
       "      <td>-0.017823</td>\n",
       "      <td>0.368564</td>\n",
       "    </tr>\n",
       "    <tr>\n",
       "      <th>gender_F</th>\n",
       "      <td>-0.001881</td>\n",
       "      <td>0.089521</td>\n",
       "      <td>0.131003</td>\n",
       "      <td>0.195894</td>\n",
       "      <td>0.062068</td>\n",
       "      <td>-0.062068</td>\n",
       "      <td>1.000000</td>\n",
       "      <td>-0.970770</td>\n",
       "      <td>-0.097906</td>\n",
       "      <td>0.187696</td>\n",
       "      <td>-0.093512</td>\n",
       "    </tr>\n",
       "    <tr>\n",
       "      <th>gender_M</th>\n",
       "      <td>0.002871</td>\n",
       "      <td>-0.089739</td>\n",
       "      <td>-0.130201</td>\n",
       "      <td>-0.193489</td>\n",
       "      <td>-0.065728</td>\n",
       "      <td>0.065728</td>\n",
       "      <td>-0.970770</td>\n",
       "      <td>1.000000</td>\n",
       "      <td>-0.143815</td>\n",
       "      <td>-0.186864</td>\n",
       "      <td>0.092432</td>\n",
       "    </tr>\n",
       "    <tr>\n",
       "      <th>gender_O</th>\n",
       "      <td>-0.004148</td>\n",
       "      <td>0.002990</td>\n",
       "      <td>-0.000272</td>\n",
       "      <td>-0.005408</td>\n",
       "      <td>0.016624</td>\n",
       "      <td>-0.016624</td>\n",
       "      <td>-0.097906</td>\n",
       "      <td>-0.143815</td>\n",
       "      <td>1.000000</td>\n",
       "      <td>0.000923</td>\n",
       "      <td>0.002298</td>\n",
       "    </tr>\n",
       "    <tr>\n",
       "      <th>income bins</th>\n",
       "      <td>0.001898</td>\n",
       "      <td>0.229147</td>\n",
       "      <td>0.274323</td>\n",
       "      <td>0.948328</td>\n",
       "      <td>0.017823</td>\n",
       "      <td>-0.017823</td>\n",
       "      <td>0.187696</td>\n",
       "      <td>-0.186864</td>\n",
       "      <td>0.000923</td>\n",
       "      <td>1.000000</td>\n",
       "      <td>-0.297617</td>\n",
       "    </tr>\n",
       "    <tr>\n",
       "      <th>num_transactions</th>\n",
       "      <td>-0.038048</td>\n",
       "      <td>-0.095568</td>\n",
       "      <td>-0.167729</td>\n",
       "      <td>-0.310059</td>\n",
       "      <td>-0.368564</td>\n",
       "      <td>0.368564</td>\n",
       "      <td>-0.093512</td>\n",
       "      <td>0.092432</td>\n",
       "      <td>0.002298</td>\n",
       "      <td>-0.297617</td>\n",
       "      <td>1.000000</td>\n",
       "    </tr>\n",
       "  </tbody>\n",
       "</table>\n",
       "</div>"
      ],
      "text/plain": [
       "                            time    amount       age    income  year joined  \\\n",
       "time                    1.000000  0.005504  0.005609  0.002995     0.004424   \n",
       "amount                  0.005504  1.000000  0.091534  0.237077     0.030986   \n",
       "age                     0.005609  0.091534  1.000000  0.282583     0.011170   \n",
       "income                  0.002995  0.237077  0.282583  1.000000     0.022724   \n",
       "year joined             0.004424  0.030986  0.011170  0.022724     1.000000   \n",
       "member_since(in years) -0.004424 -0.030986 -0.011170 -0.022724    -1.000000   \n",
       "gender_F               -0.001881  0.089521  0.131003  0.195894     0.062068   \n",
       "gender_M                0.002871 -0.089739 -0.130201 -0.193489    -0.065728   \n",
       "gender_O               -0.004148  0.002990 -0.000272 -0.005408     0.016624   \n",
       "income bins             0.001898  0.229147  0.274323  0.948328     0.017823   \n",
       "num_transactions       -0.038048 -0.095568 -0.167729 -0.310059    -0.368564   \n",
       "\n",
       "                        member_since(in years)  gender_F  gender_M  gender_O  \\\n",
       "time                                 -0.004424 -0.001881  0.002871 -0.004148   \n",
       "amount                               -0.030986  0.089521 -0.089739  0.002990   \n",
       "age                                  -0.011170  0.131003 -0.130201 -0.000272   \n",
       "income                               -0.022724  0.195894 -0.193489 -0.005408   \n",
       "year joined                          -1.000000  0.062068 -0.065728  0.016624   \n",
       "member_since(in years)                1.000000 -0.062068  0.065728 -0.016624   \n",
       "gender_F                             -0.062068  1.000000 -0.970770 -0.097906   \n",
       "gender_M                              0.065728 -0.970770  1.000000 -0.143815   \n",
       "gender_O                             -0.016624 -0.097906 -0.143815  1.000000   \n",
       "income bins                          -0.017823  0.187696 -0.186864  0.000923   \n",
       "num_transactions                      0.368564 -0.093512  0.092432  0.002298   \n",
       "\n",
       "                        income bins  num_transactions  \n",
       "time                       0.001898         -0.038048  \n",
       "amount                     0.229147         -0.095568  \n",
       "age                        0.274323         -0.167729  \n",
       "income                     0.948328         -0.310059  \n",
       "year joined                0.017823         -0.368564  \n",
       "member_since(in years)    -0.017823          0.368564  \n",
       "gender_F                   0.187696         -0.093512  \n",
       "gender_M                  -0.186864          0.092432  \n",
       "gender_O                   0.000923          0.002298  \n",
       "income bins                1.000000         -0.297617  \n",
       "num_transactions          -0.297617          1.000000  "
      ]
     },
     "execution_count": 3,
     "metadata": {},
     "output_type": "execute_result"
    }
   ],
   "source": [
    "transactions.corr()"
   ]
  },
  {
   "cell_type": "code",
   "execution_count": 4,
   "metadata": {},
   "outputs": [
    {
     "name": "stdout",
     "output_type": "stream",
     "text": [
      "<class 'pandas.core.frame.DataFrame'>\n",
      "Int64Index: 123802 entries, 0 to 123801\n",
      "Data columns (total 14 columns):\n",
      " #   Column                  Non-Null Count   Dtype  \n",
      "---  ------                  --------------   -----  \n",
      " 0   person                  123802 non-null  object \n",
      " 1   event                   123802 non-null  object \n",
      " 2   time                    123802 non-null  int64  \n",
      " 3   amount                  123802 non-null  float64\n",
      " 4   gender                  123802 non-null  object \n",
      " 5   age                     123802 non-null  int64  \n",
      " 6   income                  123802 non-null  float64\n",
      " 7   year joined             123802 non-null  int64  \n",
      " 8   member_since(in years)  123802 non-null  int64  \n",
      " 9   gender_F                123802 non-null  int64  \n",
      " 10  gender_M                123802 non-null  int64  \n",
      " 11  gender_O                123802 non-null  int64  \n",
      " 12  income bins             123802 non-null  int64  \n",
      " 13  num_transactions        123802 non-null  int64  \n",
      "dtypes: float64(2), int64(9), object(3)\n",
      "memory usage: 14.2+ MB\n"
     ]
    }
   ],
   "source": [
    "transactions.info()"
   ]
  },
  {
   "cell_type": "code",
   "execution_count": 5,
   "metadata": {},
   "outputs": [],
   "source": [
    "import matplotlib.pyplot as plt \n",
    "import seaborn as sns"
   ]
  },
  {
   "cell_type": "code",
   "execution_count": 6,
   "metadata": {},
   "outputs": [
    {
     "data": {
      "text/plain": [
       "<matplotlib.axes._subplots.AxesSubplot at 0x193ade53a48>"
      ]
     },
     "execution_count": 6,
     "metadata": {},
     "output_type": "execute_result"
    },
    {
     "data": {
      "image/png": "[encoded data removed]",
      "text/plain": [
       "<Figure size 432x288 with 1 Axes>"
      ]
     },
     "metadata": {
      "needs_background": "light"
     },
     "output_type": "display_data"
    }
   ],
   "source": [
    "income_bins = transactions.groupby('income bins')['amount'].sum()\n",
    "income_bins.plot(kind = 'bar') "
   ]
  },
  {
   "cell_type": "code",
   "execution_count": null,
   "metadata": {},
   "outputs": [],
   "source": []
  },
  {
   "cell_type": "code",
   "execution_count": 7,
   "metadata": {},
   "outputs": [
    {
     "data": {
      "text/plain": [
       "<matplotlib.axes._subplots.AxesSubplot at 0x193afd53cc8>"
      ]
     },
     "execution_count": 7,
     "metadata": {},
     "output_type": "execute_result"
    },
    {
     "data": {
      "image/png": "[encoded data removed]",
      "text/plain": [
       "<Figure size 432x288 with 1 Axes>"
      ]
     },
     "metadata": {
      "needs_background": "light"
     },
     "output_type": "display_data"
    }
   ],
   "source": [
    "gender = transactions.groupby('gender')['amount'].sum()\n",
    "gender.plot(kind='bar')"
   ]
  },
  {
   "cell_type": "markdown",
   "metadata": {},
   "source": [
    "Male and female have almost spent equal amounts but other gender have spent less totally. \n",
    "We cannot conclude much from this observation as frequency of genders might be different. \n",
    "\n",
    "So it is rather better to check the mean of amount spent by each gender."
   ]
  },
  {
   "cell_type": "code",
   "execution_count": 8,
   "metadata": {},
   "outputs": [
    {
     "data": {
      "text/plain": [
       "<matplotlib.axes._subplots.AxesSubplot at 0x193afdd8608>"
      ]
     },
     "execution_count": 8,
     "metadata": {},
     "output_type": "execute_result"
    },
    {
     "data": {
      "image/png": "[encoded data removed]",
      "text/plain": [
       "<Figure size 432x288 with 1 Axes>"
      ]
     },
     "metadata": {
      "needs_background": "light"
     },
     "output_type": "display_data"
    }
   ],
   "source": [
    "gender = transactions.groupby('gender')['amount'].mean()\n",
    "gender.plot(kind='bar')\n",
    "# We see that on an average females have spent less amount."
   ]
  },
  {
   "cell_type": "code",
   "execution_count": 9,
   "metadata": {},
   "outputs": [
    {
     "data": {
      "text/plain": [
       "<matplotlib.axes._subplots.AxesSubplot at 0x193afe475c8>"
      ]
     },
     "execution_count": 9,
     "metadata": {},
     "output_type": "execute_result"
    },
    {
     "data": {
      "image/png": "[encoded data removed]",
      "text/plain": [
       "<Figure size 432x288 with 1 Axes>"
      ]
     },
     "metadata": {
      "needs_background": "light"
     },
     "output_type": "display_data"
    }
   ],
   "source": [
    "members_since = transactions.groupby('member_since(in years)')['amount'].sum()\n",
    "members_since.plot(kind='bar')\n",
    "\n",
    "# we can understand that new customers and old customers did not spend much."
   ]
  },
  {
   "cell_type": "code",
   "execution_count": 10,
   "metadata": {},
   "outputs": [
    {
     "data": {
      "text/plain": [
       "<matplotlib.axes._subplots.AxesSubplot at 0x193afebd4c8>"
      ]
     },
     "execution_count": 10,
     "metadata": {},
     "output_type": "execute_result"
    },
    {
     "data": {
      "image/png": "[encoded data removed]",
      "text/plain": [
       "<Figure size 432x288 with 1 Axes>"
      ]
     },
     "metadata": {
      "needs_background": "light"
     },
     "output_type": "display_data"
    }
   ],
   "source": [
    "members_since = transactions.groupby('member_since(in years)')['amount'].mean()\n",
    "members_since.plot(kind='bar')"
   ]
  },
  {
   "cell_type": "code",
   "execution_count": 11,
   "metadata": {},
   "outputs": [
    {
     "data": {
      "text/plain": [
       "<matplotlib.axes._subplots.AxesSubplot at 0x193aff28d48>"
      ]
     },
     "execution_count": 11,
     "metadata": {},
     "output_type": "execute_result"
    },
    {
     "data": {
      "image/png": "[encoded data removed]",
      "text/plain": [
       "<Figure size 576x576 with 1 Axes>"
      ]
     },
     "metadata": {
      "needs_background": "light"
     },
     "output_type": "display_data"
    }
   ],
   "source": [
    "# Let's see if people with more number of transactions visit early or not.\n",
    "\n",
    "mean_time = transactions.groupby('num_transactions')['time'].mean()\n",
    "mean_time.plot(kind='barh',figsize=(8,8))"
   ]
  },
  {
   "cell_type": "markdown",
   "metadata": {},
   "source": [
    "Does income effect spending ?"
   ]
  },
  {
   "cell_type": "code",
   "execution_count": 12,
   "metadata": {},
   "outputs": [
    {
     "data": {
      "text/plain": [
       "<matplotlib.axes._subplots.AxesSubplot at 0x193b01a1a48>"
      ]
     },
     "execution_count": 12,
     "metadata": {},
     "output_type": "execute_result"
    },
    {
     "data": {
      "image/png": "[encoded data removed]",
      "text/plain": [
       "<Figure size 432x288 with 1 Axes>"
      ]
     },
     "metadata": {
      "needs_background": "light"
     },
     "output_type": "display_data"
    }
   ],
   "source": [
    "sns.scatterplot(x = 'amount',y = 'income',data=transactions,hue='gender')"
   ]
  },
  {
   "cell_type": "code",
   "execution_count": 13,
   "metadata": {},
   "outputs": [
    {
     "data": {
      "text/html": [
       "<div>\n",
       "<style scoped>\n",
       "    .dataframe tbody tr th:only-of-type {\n",
       "        vertical-align: middle;\n",
       "    }\n",
       "\n",
       "    .dataframe tbody tr th {\n",
       "        vertical-align: top;\n",
       "    }\n",
       "\n",
       "    .dataframe thead th {\n",
       "        text-align: right;\n",
       "    }\n",
       "</style>\n",
       "<table border=\"1\" class=\"dataframe\">\n",
       "  <thead>\n",
       "    <tr style=\"text-align: right;\">\n",
       "      <th></th>\n",
       "      <th>time</th>\n",
       "      <th>amount</th>\n",
       "      <th>gender</th>\n",
       "      <th>age</th>\n",
       "      <th>income</th>\n",
       "      <th>year joined</th>\n",
       "      <th>member_since(in years)</th>\n",
       "      <th>gender_F</th>\n",
       "      <th>gender_M</th>\n",
       "      <th>gender_O</th>\n",
       "      <th>num_transactions</th>\n",
       "    </tr>\n",
       "    <tr>\n",
       "      <th>person</th>\n",
       "      <th></th>\n",
       "      <th></th>\n",
       "      <th></th>\n",
       "      <th></th>\n",
       "      <th></th>\n",
       "      <th></th>\n",
       "      <th></th>\n",
       "      <th></th>\n",
       "      <th></th>\n",
       "      <th></th>\n",
       "      <th></th>\n",
       "    </tr>\n",
       "  </thead>\n",
       "  <tbody>\n",
       "    <tr>\n",
       "      <th>02c083884c7d45b39cc68e1314fec56c</th>\n",
       "      <td>0</td>\n",
       "      <td>0.83</td>\n",
       "      <td>F</td>\n",
       "      <td>20</td>\n",
       "      <td>30000.0</td>\n",
       "      <td>2016</td>\n",
       "      <td>4</td>\n",
       "      <td>1</td>\n",
       "      <td>0</td>\n",
       "      <td>0</td>\n",
       "      <td>10</td>\n",
       "    </tr>\n",
       "    <tr>\n",
       "      <th>02c083884c7d45b39cc68e1314fec56c</th>\n",
       "      <td>6</td>\n",
       "      <td>1.44</td>\n",
       "      <td>F</td>\n",
       "      <td>20</td>\n",
       "      <td>30000.0</td>\n",
       "      <td>2016</td>\n",
       "      <td>4</td>\n",
       "      <td>1</td>\n",
       "      <td>0</td>\n",
       "      <td>0</td>\n",
       "      <td>10</td>\n",
       "    </tr>\n",
       "    <tr>\n",
       "      <th>02c083884c7d45b39cc68e1314fec56c</th>\n",
       "      <td>12</td>\n",
       "      <td>4.56</td>\n",
       "      <td>F</td>\n",
       "      <td>20</td>\n",
       "      <td>30000.0</td>\n",
       "      <td>2016</td>\n",
       "      <td>4</td>\n",
       "      <td>1</td>\n",
       "      <td>0</td>\n",
       "      <td>0</td>\n",
       "      <td>10</td>\n",
       "    </tr>\n",
       "    <tr>\n",
       "      <th>02c083884c7d45b39cc68e1314fec56c</th>\n",
       "      <td>84</td>\n",
       "      <td>1.53</td>\n",
       "      <td>F</td>\n",
       "      <td>20</td>\n",
       "      <td>30000.0</td>\n",
       "      <td>2016</td>\n",
       "      <td>4</td>\n",
       "      <td>1</td>\n",
       "      <td>0</td>\n",
       "      <td>0</td>\n",
       "      <td>10</td>\n",
       "    </tr>\n",
       "    <tr>\n",
       "      <th>02c083884c7d45b39cc68e1314fec56c</th>\n",
       "      <td>90</td>\n",
       "      <td>0.50</td>\n",
       "      <td>F</td>\n",
       "      <td>20</td>\n",
       "      <td>30000.0</td>\n",
       "      <td>2016</td>\n",
       "      <td>4</td>\n",
       "      <td>1</td>\n",
       "      <td>0</td>\n",
       "      <td>0</td>\n",
       "      <td>10</td>\n",
       "    </tr>\n",
       "    <tr>\n",
       "      <th>...</th>\n",
       "      <td>...</td>\n",
       "      <td>...</td>\n",
       "      <td>...</td>\n",
       "      <td>...</td>\n",
       "      <td>...</td>\n",
       "      <td>...</td>\n",
       "      <td>...</td>\n",
       "      <td>...</td>\n",
       "      <td>...</td>\n",
       "      <td>...</td>\n",
       "      <td>...</td>\n",
       "    </tr>\n",
       "    <tr>\n",
       "      <th>aabc3d56a2ea4446bef4c3f9eec8ab72</th>\n",
       "      <td>714</td>\n",
       "      <td>14.68</td>\n",
       "      <td>F</td>\n",
       "      <td>72</td>\n",
       "      <td>74000.0</td>\n",
       "      <td>2018</td>\n",
       "      <td>2</td>\n",
       "      <td>1</td>\n",
       "      <td>0</td>\n",
       "      <td>0</td>\n",
       "      <td>1</td>\n",
       "    </tr>\n",
       "    <tr>\n",
       "      <th>448dabde725040978b8a247a20bac126</th>\n",
       "      <td>714</td>\n",
       "      <td>3.19</td>\n",
       "      <td>M</td>\n",
       "      <td>50</td>\n",
       "      <td>60000.0</td>\n",
       "      <td>2018</td>\n",
       "      <td>2</td>\n",
       "      <td>0</td>\n",
       "      <td>1</td>\n",
       "      <td>0</td>\n",
       "      <td>1</td>\n",
       "    </tr>\n",
       "    <tr>\n",
       "      <th>7718656997f3453db0f5aeca9cd35240</th>\n",
       "      <td>714</td>\n",
       "      <td>15.35</td>\n",
       "      <td>F</td>\n",
       "      <td>73</td>\n",
       "      <td>65000.0</td>\n",
       "      <td>2018</td>\n",
       "      <td>2</td>\n",
       "      <td>1</td>\n",
       "      <td>0</td>\n",
       "      <td>0</td>\n",
       "      <td>1</td>\n",
       "    </tr>\n",
       "    <tr>\n",
       "      <th>54463e5d95124b7fb3133fc1eae71952</th>\n",
       "      <td>714</td>\n",
       "      <td>0.76</td>\n",
       "      <td>M</td>\n",
       "      <td>42</td>\n",
       "      <td>69000.0</td>\n",
       "      <td>2017</td>\n",
       "      <td>3</td>\n",
       "      <td>0</td>\n",
       "      <td>1</td>\n",
       "      <td>0</td>\n",
       "      <td>1</td>\n",
       "    </tr>\n",
       "    <tr>\n",
       "      <th>0c027f5f34dd4b9eba0a25785c611273</th>\n",
       "      <td>714</td>\n",
       "      <td>11.44</td>\n",
       "      <td>M</td>\n",
       "      <td>56</td>\n",
       "      <td>61000.0</td>\n",
       "      <td>2017</td>\n",
       "      <td>3</td>\n",
       "      <td>0</td>\n",
       "      <td>1</td>\n",
       "      <td>0</td>\n",
       "      <td>1</td>\n",
       "    </tr>\n",
       "  </tbody>\n",
       "</table>\n",
       "<p>123802 rows × 11 columns</p>\n",
       "</div>"
      ],
      "text/plain": [
       "                                  time  amount gender  age   income  \\\n",
       "person                                                                \n",
       "02c083884c7d45b39cc68e1314fec56c     0    0.83      F   20  30000.0   \n",
       "02c083884c7d45b39cc68e1314fec56c     6    1.44      F   20  30000.0   \n",
       "02c083884c7d45b39cc68e1314fec56c    12    4.56      F   20  30000.0   \n",
       "02c083884c7d45b39cc68e1314fec56c    84    1.53      F   20  30000.0   \n",
       "02c083884c7d45b39cc68e1314fec56c    90    0.50      F   20  30000.0   \n",
       "...                                ...     ...    ...  ...      ...   \n",
       "aabc3d56a2ea4446bef4c3f9eec8ab72   714   14.68      F   72  74000.0   \n",
       "448dabde725040978b8a247a20bac126   714    3.19      M   50  60000.0   \n",
       "7718656997f3453db0f5aeca9cd35240   714   15.35      F   73  65000.0   \n",
       "54463e5d95124b7fb3133fc1eae71952   714    0.76      M   42  69000.0   \n",
       "0c027f5f34dd4b9eba0a25785c611273   714   11.44      M   56  61000.0   \n",
       "\n",
       "                                  year joined  member_since(in years)  \\\n",
       "person                                                                  \n",
       "02c083884c7d45b39cc68e1314fec56c         2016                       4   \n",
       "02c083884c7d45b39cc68e1314fec56c         2016                       4   \n",
       "02c083884c7d45b39cc68e1314fec56c         2016                       4   \n",
       "02c083884c7d45b39cc68e1314fec56c         2016                       4   \n",
       "02c083884c7d45b39cc68e1314fec56c         2016                       4   \n",
       "...                                       ...                     ...   \n",
       "aabc3d56a2ea4446bef4c3f9eec8ab72         2018                       2   \n",
       "448dabde725040978b8a247a20bac126         2018                       2   \n",
       "7718656997f3453db0f5aeca9cd35240         2018                       2   \n",
       "54463e5d95124b7fb3133fc1eae71952         2017                       3   \n",
       "0c027f5f34dd4b9eba0a25785c611273         2017                       3   \n",
       "\n",
       "                                  gender_F  gender_M  gender_O  \\\n",
       "person                                                           \n",
       "02c083884c7d45b39cc68e1314fec56c         1         0         0   \n",
       "02c083884c7d45b39cc68e1314fec56c         1         0         0   \n",
       "02c083884c7d45b39cc68e1314fec56c         1         0         0   \n",
       "02c083884c7d45b39cc68e1314fec56c         1         0         0   \n",
       "02c083884c7d45b39cc68e1314fec56c         1         0         0   \n",
       "...                                    ...       ...       ...   \n",
       "aabc3d56a2ea4446bef4c3f9eec8ab72         1         0         0   \n",
       "448dabde725040978b8a247a20bac126         0         1         0   \n",
       "7718656997f3453db0f5aeca9cd35240         1         0         0   \n",
       "54463e5d95124b7fb3133fc1eae71952         0         1         0   \n",
       "0c027f5f34dd4b9eba0a25785c611273         0         1         0   \n",
       "\n",
       "                                  num_transactions  \n",
       "person                                              \n",
       "02c083884c7d45b39cc68e1314fec56c                10  \n",
       "02c083884c7d45b39cc68e1314fec56c                10  \n",
       "02c083884c7d45b39cc68e1314fec56c                10  \n",
       "02c083884c7d45b39cc68e1314fec56c                10  \n",
       "02c083884c7d45b39cc68e1314fec56c                10  \n",
       "...                                            ...  \n",
       "aabc3d56a2ea4446bef4c3f9eec8ab72                 1  \n",
       "448dabde725040978b8a247a20bac126                 1  \n",
       "7718656997f3453db0f5aeca9cd35240                 1  \n",
       "54463e5d95124b7fb3133fc1eae71952                 1  \n",
       "0c027f5f34dd4b9eba0a25785c611273                 1  \n",
       "\n",
       "[123802 rows x 11 columns]"
      ]
     },
     "execution_count": 13,
     "metadata": {},
     "output_type": "execute_result"
    }
   ],
   "source": [
    "transactions.set_index('person',inplace=True)\n",
    "transactions.drop(['event','income bins'],axis=1,inplace=True)\n",
    "transactions"
   ]
  },
  {
   "cell_type": "markdown",
   "metadata": {},
   "source": [
    "Which gender utilizes the offer more number of times?"
   ]
  },
  {
   "cell_type": "code",
   "execution_count": 14,
   "metadata": {},
   "outputs": [
    {
     "data": {
      "text/plain": [
       "<matplotlib.axes._subplots.AxesSubplot at 0x193b007f388>"
      ]
     },
     "execution_count": 14,
     "metadata": {},
     "output_type": "execute_result"
    },
    {
     "data": {
      "image/png": "[encoded data removed]",
      "text/plain": [
       "<Figure size 432x288 with 1 Axes>"
      ]
     },
     "metadata": {
      "needs_background": "light"
     },
     "output_type": "display_data"
    }
   ],
   "source": [
    "num_transactions = transactions.groupby('gender')['num_transactions'].mean()\n",
    "num_transactions.plot(kind='bar')"
   ]
  }
 ],
 "metadata": {
  "kernelspec": {
   "display_name": "Python 3",
   "language": "python",
   "name": "python3"
  },
  "language_info": {
   "codemirror_mode": {
    "name": "ipython",
    "version": 3
   },
   "file_extension": ".py",
   "mimetype": "text/x-python",
   "name": "python",
   "nbconvert_exporter": "python",
   "pygments_lexer": "ipython3",
   "version": "3.7.6"
  }
 },
 "nbformat": 4,
 "nbformat_minor": 4
}
